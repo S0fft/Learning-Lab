{
 "cells": [
  {
   "cell_type": "code",
   "execution_count": null,
   "id": "234962ce-7095-404b-bd5c-89b1d2bb2ad4",
   "metadata": {},
   "outputs": [],
   "source": [
    "!pip uninstall requests"
   ]
  },
  {
   "cell_type": "code",
   "execution_count": null,
   "id": "aa235741-f752-4db0-9b2c-6625d2e675f6",
   "metadata": {},
   "outputs": [],
   "source": [
    "import os\n",
    "print(os)"
   ]
  }
 ],
 "metadata": {
  "kernelspec": {
   "display_name": "Python 3 (ipykernel)",
   "language": "python",
   "name": "python3"
  },
  "language_info": {
   "codemirror_mode": {
    "name": "ipython",
    "version": 3
   },
   "file_extension": ".py",
   "mimetype": "text/x-python",
   "name": "python",
   "nbconvert_exporter": "python",
   "pygments_lexer": "ipython3",
   "version": "3.11.6"
  }
 },
 "nbformat": 4,
 "nbformat_minor": 5
}
