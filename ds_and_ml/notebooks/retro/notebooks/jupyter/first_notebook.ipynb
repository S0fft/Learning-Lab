{
 "cells": [
  {
   "cell_type": "markdown",
   "id": "18235161-32b8-47a1-bada-ef3f57c7f850",
   "metadata": {},
   "source": [
    "# Frist Notebook"
   ]
  },
  {
   "cell_type": "code",
   "execution_count": null,
   "id": "d9f86094-439e-473a-8e8c-09a8aa954015",
   "metadata": {},
   "outputs": [],
   "source": [
    "name = 'Evgeniy'\n",
    "name"
   ]
  },
  {
   "cell_type": "code",
   "execution_count": 3,
   "id": "568012f5-1940-4de2-929f-fb73d997e66c",
   "metadata": {},
   "outputs": [],
   "source": [
    "name = 'else'"
   ]
  },
  {
   "cell_type": "code",
   "execution_count": 4,
   "id": "5fa097b8-76ce-40da-9a8d-f3e56ec3f3d7",
   "metadata": {},
   "outputs": [
    {
     "data": {
      "text/plain": [
       "'else'"
      ]
     },
     "execution_count": 4,
     "metadata": {},
     "output_type": "execute_result"
    }
   ],
   "source": [
    "name"
   ]
  },
  {
   "cell_type": "markdown",
   "id": "a318296c-ed65-4acf-bbc7-b5c7f264592b",
   "metadata": {},
   "source": [
    "## Second"
   ]
  },
  {
   "cell_type": "raw",
   "id": "249e5f5c-cc77-4ae3-9f31-78bce7027b84",
   "metadata": {},
   "source": [
    "name"
   ]
  },
  {
   "cell_type": "code",
   "execution_count": 10,
   "id": "bfdb4003-2f2e-47be-836d-672881e5228e",
   "metadata": {},
   "outputs": [
    {
     "data": {
      "text/plain": [
       "'My name is else'"
      ]
     },
     "execution_count": 10,
     "metadata": {},
     "output_type": "execute_result"
    }
   ],
   "source": [
    "f'My name is {name}'"
   ]
  },
  {
   "cell_type": "code",
   "execution_count": null,
   "id": "0ecf5e8b-971b-4cee-bdc5-7d7c19603778",
   "metadata": {},
   "outputs": [],
   "source": []
  }
 ],
 "metadata": {
  "kernelspec": {
   "display_name": "Python 3 (ipykernel)",
   "language": "python",
   "name": "python3"
  },
  "language_info": {
   "codemirror_mode": {
    "name": "ipython",
    "version": 3
   },
   "file_extension": ".py",
   "mimetype": "text/x-python",
   "name": "python",
   "nbconvert_exporter": "python",
   "pygments_lexer": "ipython3",
   "version": "3.11.6"
  }
 },
 "nbformat": 4,
 "nbformat_minor": 5
}
